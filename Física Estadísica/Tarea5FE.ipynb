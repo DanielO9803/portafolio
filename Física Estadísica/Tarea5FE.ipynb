{
  "nbformat": 4,
  "nbformat_minor": 0,
  "metadata": {
    "colab": {
      "name": "Tarea5FE.ipynb",
      "provenance": []
    },
    "kernelspec": {
      "name": "python3",
      "display_name": "Python 3"
    },
    "language_info": {
      "name": "python"
    }
  },
  "cells": [
    {
      "cell_type": "code",
      "metadata": {
        "id": "Hp27-uJKt2oK"
      },
      "source": [
        "import numpy as np\n",
        "import pandas as pd\n",
        "import math as mt\n",
        "import matplotlib.pyplot as plt"
      ],
      "execution_count": null,
      "outputs": []
    },
    {
      "cell_type": "code",
      "metadata": {
        "id": "aS_m_yv0xUL2"
      },
      "source": [
        "# Escribimos las funciones de Omega de la multiplicidad \n",
        "def Om(N,q):\n",
        "  r = mt.factorial(q+N-1)/(mt.factorial(q)*(mt.factorial(N-1)))\n",
        "  return r"
      ],
      "execution_count": null,
      "outputs": []
    },
    {
      "cell_type": "code",
      "metadata": {
        "id": "uW7vjSMF-ay0"
      },
      "source": [
        "q_A, q_B = [],[]\n",
        "\n",
        "for i in range(0, 101): q_A.append(i)\n",
        "for i in range(100, -1, -1): q_B.append(i)"
      ],
      "execution_count": null,
      "outputs": []
    },
    {
      "cell_type": "code",
      "metadata": {
        "id": "lscSccEeAXow"
      },
      "source": [
        ""
      ],
      "execution_count": null,
      "outputs": []
    },
    {
      "cell_type": "code",
      "metadata": {
        "id": "uOCdOXrD--IP"
      },
      "source": [
        "N_A, N_B = 300, 200\n",
        "OM_A, OM_B = [], []\n",
        "\n",
        "\n",
        "for i in range(101): OM_A.append(Om(N_A, q_A[i]))\n",
        "for i in range(101): OM_B.append(Om(N_B, q_B[i]))"
      ],
      "execution_count": null,
      "outputs": []
    },
    {
      "cell_type": "code",
      "metadata": {
        "id": "I3uO0b-XAmxe"
      },
      "source": [
        "S_A, S_B, k = [], [], 1.380e-23\n",
        "\n",
        "\n",
        "for i in range(101): S_A.append(mt.log(OM_A[i]))\n",
        "for i in range(101): S_B.append(mt.log(OM_B[i]))"
      ],
      "execution_count": null,
      "outputs": []
    },
    {
      "cell_type": "code",
      "metadata": {
        "id": "EZOwKxBBBtdK"
      },
      "source": [
        "S_T = []\n",
        "for i in range(101): S_T.append(S_A[i]+S_B[i])"
      ],
      "execution_count": null,
      "outputs": []
    },
    {
      "cell_type": "code",
      "metadata": {
        "id": "SNQnjQlHBtD6"
      },
      "source": [
        "# Definimos la emisividad como un valor menor a 1,\n",
        "# ya que este valor debe ser menor a 1, pues 1 es para el cuepo negro\n",
        "# 0.96 es para el agua\n",
        "ep_0 = 0.96\n",
        "\n",
        "iT_A, iT_B = [], []\n",
        "\n",
        "for i in range(101): \n",
        "  if i == 0:\n",
        "    iT_A.append(None)\n",
        "  else:\n",
        "    iT_A.append(((3/2)*N_A*k)/(ep_0*q_A[i]))\n",
        "for i in range(101): \n",
        "  if i == 100:\n",
        "    iT_B.append(None)\n",
        "  else:\n",
        "    iT_B.append(((3/2)*N_B*k)/(ep_0*q_B[i]))\n",
        "\n",
        "#Finalmente calculamos la Omega total\n",
        "OM_T = []\n",
        "\n",
        "for i in range(101): OM_T.append(OM_A[i]*OM_B[i])"
      ],
      "execution_count": null,
      "outputs": []
    },
    {
      "cell_type": "code",
      "metadata": {
        "id": "bT8RIpoTBs7z"
      },
      "source": [
        "# Realizamos la tabla\n",
        "\n",
        "lf = pd.DataFrame(list(zip(q_A,OM_A, S_A, iT_A,\n",
        "                           q_B,OM_B, S_B, iT_B,\n",
        "                           OM_T, S_T)),\n",
        "                  columns = [\"q_A\", \"\\Omega_A\", \"S_A/k\",\"1/T_A\",\n",
        "                             \"q_B\", \"\\Omega_B\", \"S_B/k\",\"1/T_B\",\n",
        "                             \"\\Omega_T\", \"S_T/k\"])\n"
      ],
      "execution_count": null,
      "outputs": []
    },
    {
      "cell_type": "markdown",
      "metadata": {
        "id": "ZKnVL8LnezCP"
      },
      "source": [
        "# 4a)"
      ]
    },
    {
      "cell_type": "markdown",
      "metadata": {
        "id": "kPILgJX0Mb28"
      },
      "source": [
        "# Visualizamos los datos en manera general"
      ]
    },
    {
      "cell_type": "code",
      "metadata": {
        "colab": {
          "base_uri": "https://localhost:8080/",
          "height": 414
        },
        "id": "RxWgGinCAGdP",
        "outputId": "b95a7120-8264-40d0-a4dc-d899fc302bc5"
      },
      "source": [
        "lf"
      ],
      "execution_count": null,
      "outputs": [
        {
          "output_type": "execute_result",
          "data": {
            "text/html": [
              "<div>\n",
              "<style scoped>\n",
              "    .dataframe tbody tr th:only-of-type {\n",
              "        vertical-align: middle;\n",
              "    }\n",
              "\n",
              "    .dataframe tbody tr th {\n",
              "        vertical-align: top;\n",
              "    }\n",
              "\n",
              "    .dataframe thead th {\n",
              "        text-align: right;\n",
              "    }\n",
              "</style>\n",
              "<table border=\"1\" class=\"dataframe\">\n",
              "  <thead>\n",
              "    <tr style=\"text-align: right;\">\n",
              "      <th></th>\n",
              "      <th>q_A</th>\n",
              "      <th>\\Omega_A</th>\n",
              "      <th>S_A/k</th>\n",
              "      <th>1/T_A</th>\n",
              "      <th>q_B</th>\n",
              "      <th>\\Omega_B</th>\n",
              "      <th>S_B/k</th>\n",
              "      <th>1/T_B</th>\n",
              "      <th>\\Omega_T</th>\n",
              "      <th>S_T/k</th>\n",
              "    </tr>\n",
              "  </thead>\n",
              "  <tbody>\n",
              "    <tr>\n",
              "      <th>0</th>\n",
              "      <td>0</td>\n",
              "      <td>1.000000e+00</td>\n",
              "      <td>0.000000</td>\n",
              "      <td>NaN</td>\n",
              "      <td>100</td>\n",
              "      <td>2.772168e+81</td>\n",
              "      <td>187.529022</td>\n",
              "      <td>4.312500e-23</td>\n",
              "      <td>2.772168e+81</td>\n",
              "      <td>187.529022</td>\n",
              "    </tr>\n",
              "    <tr>\n",
              "      <th>1</th>\n",
              "      <td>1</td>\n",
              "      <td>3.000000e+02</td>\n",
              "      <td>5.703782</td>\n",
              "      <td>6.468750e-21</td>\n",
              "      <td>99</td>\n",
              "      <td>9.271464e+80</td>\n",
              "      <td>186.433749</td>\n",
              "      <td>4.356061e-23</td>\n",
              "      <td>2.781439e+83</td>\n",
              "      <td>192.137531</td>\n",
              "    </tr>\n",
              "    <tr>\n",
              "      <th>2</th>\n",
              "      <td>2</td>\n",
              "      <td>4.515000e+04</td>\n",
              "      <td>10.717746</td>\n",
              "      <td>3.234375e-21</td>\n",
              "      <td>98</td>\n",
              "      <td>3.080117e+80</td>\n",
              "      <td>185.331775</td>\n",
              "      <td>4.400510e-23</td>\n",
              "      <td>1.390673e+85</td>\n",
              "      <td>196.049521</td>\n",
              "    </tr>\n",
              "    <tr>\n",
              "      <th>3</th>\n",
              "      <td>3</td>\n",
              "      <td>4.545100e+06</td>\n",
              "      <td>15.329560</td>\n",
              "      <td>2.156250e-21</td>\n",
              "      <td>97</td>\n",
              "      <td>1.016335e+80</td>\n",
              "      <td>184.223010</td>\n",
              "      <td>4.445876e-23</td>\n",
              "      <td>4.619344e+86</td>\n",
              "      <td>199.552571</td>\n",
              "    </tr>\n",
              "    <tr>\n",
              "      <th>4</th>\n",
              "      <td>4</td>\n",
              "      <td>3.442913e+08</td>\n",
              "      <td>19.656999</td>\n",
              "      <td>1.617188e-21</td>\n",
              "      <td>96</td>\n",
              "      <td>3.330557e+79</td>\n",
              "      <td>183.107362</td>\n",
              "      <td>4.492188e-23</td>\n",
              "      <td>1.146682e+88</td>\n",
              "      <td>202.764361</td>\n",
              "    </tr>\n",
              "    <tr>\n",
              "      <th>...</th>\n",
              "      <td>...</td>\n",
              "      <td>...</td>\n",
              "      <td>...</td>\n",
              "      <td>...</td>\n",
              "      <td>...</td>\n",
              "      <td>...</td>\n",
              "      <td>...</td>\n",
              "      <td>...</td>\n",
              "      <td>...</td>\n",
              "      <td>...</td>\n",
              "    </tr>\n",
              "    <tr>\n",
              "      <th>96</th>\n",
              "      <td>96</td>\n",
              "      <td>6.338115e+93</td>\n",
              "      <td>215.986995</td>\n",
              "      <td>6.738281e-23</td>\n",
              "      <td>4</td>\n",
              "      <td>6.868505e+07</td>\n",
              "      <td>18.045042</td>\n",
              "      <td>1.078125e-21</td>\n",
              "      <td>4.353337e+101</td>\n",
              "      <td>234.032037</td>\n",
              "    </tr>\n",
              "    <tr>\n",
              "      <th>97</th>\n",
              "      <td>97</td>\n",
              "      <td>2.587519e+94</td>\n",
              "      <td>217.393698</td>\n",
              "      <td>6.668814e-23</td>\n",
              "      <td>3</td>\n",
              "      <td>1.353400e+06</td>\n",
              "      <td>14.118131</td>\n",
              "      <td>1.437500e-21</td>\n",
              "      <td>3.501948e+100</td>\n",
              "      <td>231.511829</td>\n",
              "    </tr>\n",
              "    <tr>\n",
              "      <th>98</th>\n",
              "      <td>98</td>\n",
              "      <td>1.048209e+95</td>\n",
              "      <td>218.792667</td>\n",
              "      <td>6.600765e-23</td>\n",
              "      <td>2</td>\n",
              "      <td>2.010000e+04</td>\n",
              "      <td>9.908475</td>\n",
              "      <td>2.156250e-21</td>\n",
              "      <td>2.106901e+99</td>\n",
              "      <td>228.701142</td>\n",
              "    </tr>\n",
              "    <tr>\n",
              "      <th>99</th>\n",
              "      <td>99</td>\n",
              "      <td>4.214013e+95</td>\n",
              "      <td>220.183999</td>\n",
              "      <td>6.534091e-23</td>\n",
              "      <td>1</td>\n",
              "      <td>2.000000e+02</td>\n",
              "      <td>5.298317</td>\n",
              "      <td>4.312500e-21</td>\n",
              "      <td>8.428026e+97</td>\n",
              "      <td>225.482317</td>\n",
              "    </tr>\n",
              "    <tr>\n",
              "      <th>100</th>\n",
              "      <td>100</td>\n",
              "      <td>1.681391e+96</td>\n",
              "      <td>221.567790</td>\n",
              "      <td>6.468750e-23</td>\n",
              "      <td>0</td>\n",
              "      <td>1.000000e+00</td>\n",
              "      <td>0.000000</td>\n",
              "      <td>NaN</td>\n",
              "      <td>1.681391e+96</td>\n",
              "      <td>221.567790</td>\n",
              "    </tr>\n",
              "  </tbody>\n",
              "</table>\n",
              "<p>101 rows × 10 columns</p>\n",
              "</div>"
            ],
            "text/plain": [
              "     q_A      \\Omega_A       S_A/k  ...         1/T_B       \\Omega_T       S_T/k\n",
              "0      0  1.000000e+00    0.000000  ...  4.312500e-23   2.772168e+81  187.529022\n",
              "1      1  3.000000e+02    5.703782  ...  4.356061e-23   2.781439e+83  192.137531\n",
              "2      2  4.515000e+04   10.717746  ...  4.400510e-23   1.390673e+85  196.049521\n",
              "3      3  4.545100e+06   15.329560  ...  4.445876e-23   4.619344e+86  199.552571\n",
              "4      4  3.442913e+08   19.656999  ...  4.492188e-23   1.146682e+88  202.764361\n",
              "..   ...           ...         ...  ...           ...            ...         ...\n",
              "96    96  6.338115e+93  215.986995  ...  1.078125e-21  4.353337e+101  234.032037\n",
              "97    97  2.587519e+94  217.393698  ...  1.437500e-21  3.501948e+100  231.511829\n",
              "98    98  1.048209e+95  218.792667  ...  2.156250e-21   2.106901e+99  228.701142\n",
              "99    99  4.214013e+95  220.183999  ...  4.312500e-21   8.428026e+97  225.482317\n",
              "100  100  1.681391e+96  221.567790  ...           NaN   1.681391e+96  221.567790\n",
              "\n",
              "[101 rows x 10 columns]"
            ]
          },
          "metadata": {},
          "execution_count": 71
        }
      ]
    },
    {
      "cell_type": "markdown",
      "metadata": {
        "id": "_WjYvmACQDGK"
      },
      "source": [
        "# Una descripción de los datos"
      ]
    },
    {
      "cell_type": "code",
      "metadata": {
        "colab": {
          "base_uri": "https://localhost:8080/",
          "height": 294
        },
        "id": "OKmNkWz-QCoC",
        "outputId": "8c1b0a1c-60f7-4093-c0f4-1dbfd103ceeb"
      },
      "source": [
        "lf.describe()"
      ],
      "execution_count": null,
      "outputs": [
        {
          "output_type": "execute_result",
          "data": {
            "text/html": [
              "<div>\n",
              "<style scoped>\n",
              "    .dataframe tbody tr th:only-of-type {\n",
              "        vertical-align: middle;\n",
              "    }\n",
              "\n",
              "    .dataframe tbody tr th {\n",
              "        vertical-align: top;\n",
              "    }\n",
              "\n",
              "    .dataframe thead th {\n",
              "        text-align: right;\n",
              "    }\n",
              "</style>\n",
              "<table border=\"1\" class=\"dataframe\">\n",
              "  <thead>\n",
              "    <tr style=\"text-align: right;\">\n",
              "      <th></th>\n",
              "      <th>q_A</th>\n",
              "      <th>\\Omega_A</th>\n",
              "      <th>S_A/k</th>\n",
              "      <th>1/T_A</th>\n",
              "      <th>q_B</th>\n",
              "      <th>\\Omega_B</th>\n",
              "      <th>S_B/k</th>\n",
              "      <th>1/T_B</th>\n",
              "      <th>\\Omega_T</th>\n",
              "      <th>S_T/k</th>\n",
              "    </tr>\n",
              "  </thead>\n",
              "  <tbody>\n",
              "    <tr>\n",
              "      <th>count</th>\n",
              "      <td>101.000000</td>\n",
              "      <td>1.010000e+02</td>\n",
              "      <td>101.000000</td>\n",
              "      <td>1.000000e+02</td>\n",
              "      <td>101.000000</td>\n",
              "      <td>1.010000e+02</td>\n",
              "      <td>101.000000</td>\n",
              "      <td>1.000000e+02</td>\n",
              "      <td>1.010000e+02</td>\n",
              "      <td>101.000000</td>\n",
              "    </tr>\n",
              "    <tr>\n",
              "      <th>mean</th>\n",
              "      <td>50.000000</td>\n",
              "      <td>2.219658e+94</td>\n",
              "      <td>132.056243</td>\n",
              "      <td>3.355585e-22</td>\n",
              "      <td>50.000000</td>\n",
              "      <td>4.117081e+79</td>\n",
              "      <td>114.073487</td>\n",
              "      <td>2.237057e-22</td>\n",
              "      <td>9.170060e+113</td>\n",
              "      <td>246.129730</td>\n",
              "    </tr>\n",
              "    <tr>\n",
              "      <th>std</th>\n",
              "      <td>29.300171</td>\n",
              "      <td>1.722380e+95</td>\n",
              "      <td>61.339653</td>\n",
              "      <td>7.598212e-22</td>\n",
              "      <td>29.300171</td>\n",
              "      <td>2.912002e+80</td>\n",
              "      <td>51.452759</td>\n",
              "      <td>5.065475e-22</td>\n",
              "      <td>1.912370e+114</td>\n",
              "      <td>19.131819</td>\n",
              "    </tr>\n",
              "    <tr>\n",
              "      <th>min</th>\n",
              "      <td>0.000000</td>\n",
              "      <td>1.000000e+00</td>\n",
              "      <td>0.000000</td>\n",
              "      <td>6.468750e-23</td>\n",
              "      <td>0.000000</td>\n",
              "      <td>1.000000e+00</td>\n",
              "      <td>0.000000</td>\n",
              "      <td>4.312500e-23</td>\n",
              "      <td>2.772168e+81</td>\n",
              "      <td>187.529022</td>\n",
              "    </tr>\n",
              "    <tr>\n",
              "      <th>25%</th>\n",
              "      <td>25.000000</td>\n",
              "      <td>1.446498e+37</td>\n",
              "      <td>85.564794</td>\n",
              "      <td>8.596628e-23</td>\n",
              "      <td>25.000000</td>\n",
              "      <td>9.150890e+32</td>\n",
              "      <td>75.896574</td>\n",
              "      <td>5.731086e-23</td>\n",
              "      <td>4.316747e+102</td>\n",
              "      <td>236.326182</td>\n",
              "    </tr>\n",
              "    <tr>\n",
              "      <th>50%</th>\n",
              "      <td>50.000000</td>\n",
              "      <td>1.138019e+61</td>\n",
              "      <td>140.586980</td>\n",
              "      <td>1.281066e-22</td>\n",
              "      <td>50.000000</td>\n",
              "      <td>1.078234e+53</td>\n",
              "      <td>122.112334</td>\n",
              "      <td>8.540441e-23</td>\n",
              "      <td>7.703305e+109</td>\n",
              "      <td>253.023425</td>\n",
              "    </tr>\n",
              "    <tr>\n",
              "      <th>75%</th>\n",
              "      <td>75.000000</td>\n",
              "      <td>1.288760e+80</td>\n",
              "      <td>184.460488</td>\n",
              "      <td>2.512861e-22</td>\n",
              "      <td>75.000000</td>\n",
              "      <td>3.754854e+68</td>\n",
              "      <td>157.898836</td>\n",
              "      <td>1.675240e-22</td>\n",
              "      <td>3.852126e+113</td>\n",
              "      <td>261.540741</td>\n",
              "    </tr>\n",
              "    <tr>\n",
              "      <th>max</th>\n",
              "      <td>100.000000</td>\n",
              "      <td>1.681391e+96</td>\n",
              "      <td>221.567790</td>\n",
              "      <td>6.468750e-21</td>\n",
              "      <td>100.000000</td>\n",
              "      <td>2.772168e+81</td>\n",
              "      <td>187.529022</td>\n",
              "      <td>4.312500e-21</td>\n",
              "      <td>6.866305e+114</td>\n",
              "      <td>264.421327</td>\n",
              "    </tr>\n",
              "  </tbody>\n",
              "</table>\n",
              "</div>"
            ],
            "text/plain": [
              "              q_A      \\Omega_A  ...       \\Omega_T       S_T/k\n",
              "count  101.000000  1.010000e+02  ...   1.010000e+02  101.000000\n",
              "mean    50.000000  2.219658e+94  ...  9.170060e+113  246.129730\n",
              "std     29.300171  1.722380e+95  ...  1.912370e+114   19.131819\n",
              "min      0.000000  1.000000e+00  ...   2.772168e+81  187.529022\n",
              "25%     25.000000  1.446498e+37  ...  4.316747e+102  236.326182\n",
              "50%     50.000000  1.138019e+61  ...  7.703305e+109  253.023425\n",
              "75%     75.000000  1.288760e+80  ...  3.852126e+113  261.540741\n",
              "max    100.000000  1.681391e+96  ...  6.866305e+114  264.421327\n",
              "\n",
              "[8 rows x 10 columns]"
            ]
          },
          "metadata": {},
          "execution_count": 86
        }
      ]
    },
    {
      "cell_type": "markdown",
      "metadata": {
        "id": "ugLyb4BgMyi3"
      },
      "source": [
        "# Primeros 10 y últimos 10 así como 10 de en medio"
      ]
    },
    {
      "cell_type": "code",
      "metadata": {
        "colab": {
          "base_uri": "https://localhost:8080/",
          "height": 355
        },
        "id": "b38OtoueHuUU",
        "outputId": "ce50b41e-0b12-4c2b-c522-050fe82750a2"
      },
      "source": [
        "lf.head(10)"
      ],
      "execution_count": null,
      "outputs": [
        {
          "output_type": "execute_result",
          "data": {
            "text/html": [
              "<div>\n",
              "<style scoped>\n",
              "    .dataframe tbody tr th:only-of-type {\n",
              "        vertical-align: middle;\n",
              "    }\n",
              "\n",
              "    .dataframe tbody tr th {\n",
              "        vertical-align: top;\n",
              "    }\n",
              "\n",
              "    .dataframe thead th {\n",
              "        text-align: right;\n",
              "    }\n",
              "</style>\n",
              "<table border=\"1\" class=\"dataframe\">\n",
              "  <thead>\n",
              "    <tr style=\"text-align: right;\">\n",
              "      <th></th>\n",
              "      <th>q_A</th>\n",
              "      <th>\\Omega_A</th>\n",
              "      <th>S_A/k</th>\n",
              "      <th>1/T_A</th>\n",
              "      <th>q_B</th>\n",
              "      <th>\\Omega_B</th>\n",
              "      <th>S_B/k</th>\n",
              "      <th>1/T_B</th>\n",
              "      <th>\\Omega_T</th>\n",
              "      <th>S_T/k</th>\n",
              "    </tr>\n",
              "  </thead>\n",
              "  <tbody>\n",
              "    <tr>\n",
              "      <th>0</th>\n",
              "      <td>0</td>\n",
              "      <td>1.000000e+00</td>\n",
              "      <td>0.000000</td>\n",
              "      <td>NaN</td>\n",
              "      <td>100</td>\n",
              "      <td>2.772168e+81</td>\n",
              "      <td>187.529022</td>\n",
              "      <td>4.312500e-23</td>\n",
              "      <td>2.772168e+81</td>\n",
              "      <td>187.529022</td>\n",
              "    </tr>\n",
              "    <tr>\n",
              "      <th>1</th>\n",
              "      <td>1</td>\n",
              "      <td>3.000000e+02</td>\n",
              "      <td>5.703782</td>\n",
              "      <td>6.468750e-21</td>\n",
              "      <td>99</td>\n",
              "      <td>9.271464e+80</td>\n",
              "      <td>186.433749</td>\n",
              "      <td>4.356061e-23</td>\n",
              "      <td>2.781439e+83</td>\n",
              "      <td>192.137531</td>\n",
              "    </tr>\n",
              "    <tr>\n",
              "      <th>2</th>\n",
              "      <td>2</td>\n",
              "      <td>4.515000e+04</td>\n",
              "      <td>10.717746</td>\n",
              "      <td>3.234375e-21</td>\n",
              "      <td>98</td>\n",
              "      <td>3.080117e+80</td>\n",
              "      <td>185.331775</td>\n",
              "      <td>4.400510e-23</td>\n",
              "      <td>1.390673e+85</td>\n",
              "      <td>196.049521</td>\n",
              "    </tr>\n",
              "    <tr>\n",
              "      <th>3</th>\n",
              "      <td>3</td>\n",
              "      <td>4.545100e+06</td>\n",
              "      <td>15.329560</td>\n",
              "      <td>2.156250e-21</td>\n",
              "      <td>97</td>\n",
              "      <td>1.016335e+80</td>\n",
              "      <td>184.223010</td>\n",
              "      <td>4.445876e-23</td>\n",
              "      <td>4.619344e+86</td>\n",
              "      <td>199.552571</td>\n",
              "    </tr>\n",
              "    <tr>\n",
              "      <th>4</th>\n",
              "      <td>4</td>\n",
              "      <td>3.442913e+08</td>\n",
              "      <td>19.656999</td>\n",
              "      <td>1.617188e-21</td>\n",
              "      <td>96</td>\n",
              "      <td>3.330557e+79</td>\n",
              "      <td>183.107362</td>\n",
              "      <td>4.492188e-23</td>\n",
              "      <td>1.146682e+88</td>\n",
              "      <td>202.764361</td>\n",
              "    </tr>\n",
              "    <tr>\n",
              "      <th>5</th>\n",
              "      <td>5</td>\n",
              "      <td>2.093291e+10</td>\n",
              "      <td>23.764589</td>\n",
              "      <td>1.293750e-21</td>\n",
              "      <td>95</td>\n",
              "      <td>1.083842e+79</td>\n",
              "      <td>181.984735</td>\n",
              "      <td>4.539474e-23</td>\n",
              "      <td>2.268798e+89</td>\n",
              "      <td>205.749323</td>\n",
              "    </tr>\n",
              "    <tr>\n",
              "      <th>6</th>\n",
              "      <td>6</td>\n",
              "      <td>1.064090e+12</td>\n",
              "      <td>27.693141</td>\n",
              "      <td>1.078125e-21</td>\n",
              "      <td>94</td>\n",
              "      <td>3.502212e+78</td>\n",
              "      <td>180.855032</td>\n",
              "      <td>4.587766e-23</td>\n",
              "      <td>3.726667e+90</td>\n",
              "      <td>208.548173</td>\n",
              "    </tr>\n",
              "    <tr>\n",
              "      <th>7</th>\n",
              "      <td>7</td>\n",
              "      <td>4.651592e+13</td>\n",
              "      <td>31.470816</td>\n",
              "      <td>9.241071e-22</td>\n",
              "      <td>93</td>\n",
              "      <td>1.123576e+78</td>\n",
              "      <td>179.718154</td>\n",
              "      <td>4.637097e-23</td>\n",
              "      <td>5.226419e+91</td>\n",
              "      <td>211.188970</td>\n",
              "    </tr>\n",
              "    <tr>\n",
              "      <th>8</th>\n",
              "      <td>8</td>\n",
              "      <td>1.785049e+15</td>\n",
              "      <td>35.118222</td>\n",
              "      <td>8.085938e-22</td>\n",
              "      <td>92</td>\n",
              "      <td>3.578514e+77</td>\n",
              "      <td>178.574000</td>\n",
              "      <td>4.687500e-23</td>\n",
              "      <td>6.387821e+92</td>\n",
              "      <td>213.692222</td>\n",
              "    </tr>\n",
              "    <tr>\n",
              "      <th>9</th>\n",
              "      <td>9</td>\n",
              "      <td>6.108833e+16</td>\n",
              "      <td>38.651097</td>\n",
              "      <td>7.187500e-22</td>\n",
              "      <td>91</td>\n",
              "      <td>1.131351e+77</td>\n",
              "      <td>177.422465</td>\n",
              "      <td>4.739011e-23</td>\n",
              "      <td>6.911237e+93</td>\n",
              "      <td>216.073562</td>\n",
              "    </tr>\n",
              "  </tbody>\n",
              "</table>\n",
              "</div>"
            ],
            "text/plain": [
              "   q_A      \\Omega_A      S_A/k  ...         1/T_B      \\Omega_T       S_T/k\n",
              "0    0  1.000000e+00   0.000000  ...  4.312500e-23  2.772168e+81  187.529022\n",
              "1    1  3.000000e+02   5.703782  ...  4.356061e-23  2.781439e+83  192.137531\n",
              "2    2  4.515000e+04  10.717746  ...  4.400510e-23  1.390673e+85  196.049521\n",
              "3    3  4.545100e+06  15.329560  ...  4.445876e-23  4.619344e+86  199.552571\n",
              "4    4  3.442913e+08  19.656999  ...  4.492188e-23  1.146682e+88  202.764361\n",
              "5    5  2.093291e+10  23.764589  ...  4.539474e-23  2.268798e+89  205.749323\n",
              "6    6  1.064090e+12  27.693141  ...  4.587766e-23  3.726667e+90  208.548173\n",
              "7    7  4.651592e+13  31.470816  ...  4.637097e-23  5.226419e+91  211.188970\n",
              "8    8  1.785049e+15  35.118222  ...  4.687500e-23  6.387821e+92  213.692222\n",
              "9    9  6.108833e+16  38.651097  ...  4.739011e-23  6.911237e+93  216.073562\n",
              "\n",
              "[10 rows x 10 columns]"
            ]
          },
          "metadata": {},
          "execution_count": 72
        }
      ]
    },
    {
      "cell_type": "code",
      "metadata": {
        "colab": {
          "base_uri": "https://localhost:8080/",
          "height": 355
        },
        "id": "2RNyPT8zNAmu",
        "outputId": "daba9425-f01a-4f30-a8d9-bd86a626db84"
      },
      "source": [
        "lf.tail(10)"
      ],
      "execution_count": null,
      "outputs": [
        {
          "output_type": "execute_result",
          "data": {
            "text/html": [
              "<div>\n",
              "<style scoped>\n",
              "    .dataframe tbody tr th:only-of-type {\n",
              "        vertical-align: middle;\n",
              "    }\n",
              "\n",
              "    .dataframe tbody tr th {\n",
              "        vertical-align: top;\n",
              "    }\n",
              "\n",
              "    .dataframe thead th {\n",
              "        text-align: right;\n",
              "    }\n",
              "</style>\n",
              "<table border=\"1\" class=\"dataframe\">\n",
              "  <thead>\n",
              "    <tr style=\"text-align: right;\">\n",
              "      <th></th>\n",
              "      <th>q_A</th>\n",
              "      <th>\\Omega_A</th>\n",
              "      <th>S_A/k</th>\n",
              "      <th>1/T_A</th>\n",
              "      <th>q_B</th>\n",
              "      <th>\\Omega_B</th>\n",
              "      <th>S_B/k</th>\n",
              "      <th>1/T_B</th>\n",
              "      <th>\\Omega_T</th>\n",
              "      <th>S_T/k</th>\n",
              "    </tr>\n",
              "  </thead>\n",
              "  <tbody>\n",
              "    <tr>\n",
              "      <th>91</th>\n",
              "      <td>91</td>\n",
              "      <td>4.959123e+90</td>\n",
              "      <td>208.833887</td>\n",
              "      <td>7.108516e-23</td>\n",
              "      <td>9</td>\n",
              "      <td>1.684982e+15</td>\n",
              "      <td>35.060531</td>\n",
              "      <td>4.791667e-22</td>\n",
              "      <td>8.356034e+105</td>\n",
              "      <td>243.894419</td>\n",
              "    </tr>\n",
              "    <tr>\n",
              "      <th>92</th>\n",
              "      <td>92</td>\n",
              "      <td>2.107627e+91</td>\n",
              "      <td>210.280806</td>\n",
              "      <td>7.031250e-23</td>\n",
              "      <td>8</td>\n",
              "      <td>7.290789e+13</td>\n",
              "      <td>31.920218</td>\n",
              "      <td>5.390625e-22</td>\n",
              "      <td>1.536627e+105</td>\n",
              "      <td>242.201024</td>\n",
              "    </tr>\n",
              "    <tr>\n",
              "      <th>93</th>\n",
              "      <td>93</td>\n",
              "      <td>8.883762e+91</td>\n",
              "      <td>211.719469</td>\n",
              "      <td>6.955645e-23</td>\n",
              "      <td>7</td>\n",
              "      <td>2.817696e+12</td>\n",
              "      <td>28.666941</td>\n",
              "      <td>6.160714e-22</td>\n",
              "      <td>2.503174e+104</td>\n",
              "      <td>240.386409</td>\n",
              "    </tr>\n",
              "    <tr>\n",
              "      <th>94</th>\n",
              "      <td>94</td>\n",
              "      <td>3.714169e+92</td>\n",
              "      <td>213.149983</td>\n",
              "      <td>6.881649e-23</td>\n",
              "      <td>6</td>\n",
              "      <td>9.574696e+10</td>\n",
              "      <td>25.284975</td>\n",
              "      <td>7.187500e-22</td>\n",
              "      <td>3.556203e+103</td>\n",
              "      <td>238.434958</td>\n",
              "    </tr>\n",
              "    <tr>\n",
              "      <th>95</th>\n",
              "      <td>95</td>\n",
              "      <td>1.540403e+93</td>\n",
              "      <td>214.572457</td>\n",
              "      <td>6.809211e-23</td>\n",
              "      <td>5</td>\n",
              "      <td>2.802350e+09</td>\n",
              "      <td>21.753724</td>\n",
              "      <td>8.625000e-22</td>\n",
              "      <td>4.316747e+102</td>\n",
              "      <td>236.326182</td>\n",
              "    </tr>\n",
              "    <tr>\n",
              "      <th>96</th>\n",
              "      <td>96</td>\n",
              "      <td>6.338115e+93</td>\n",
              "      <td>215.986995</td>\n",
              "      <td>6.738281e-23</td>\n",
              "      <td>4</td>\n",
              "      <td>6.868505e+07</td>\n",
              "      <td>18.045042</td>\n",
              "      <td>1.078125e-21</td>\n",
              "      <td>4.353337e+101</td>\n",
              "      <td>234.032037</td>\n",
              "    </tr>\n",
              "    <tr>\n",
              "      <th>97</th>\n",
              "      <td>97</td>\n",
              "      <td>2.587519e+94</td>\n",
              "      <td>217.393698</td>\n",
              "      <td>6.668814e-23</td>\n",
              "      <td>3</td>\n",
              "      <td>1.353400e+06</td>\n",
              "      <td>14.118131</td>\n",
              "      <td>1.437500e-21</td>\n",
              "      <td>3.501948e+100</td>\n",
              "      <td>231.511829</td>\n",
              "    </tr>\n",
              "    <tr>\n",
              "      <th>98</th>\n",
              "      <td>98</td>\n",
              "      <td>1.048209e+95</td>\n",
              "      <td>218.792667</td>\n",
              "      <td>6.600765e-23</td>\n",
              "      <td>2</td>\n",
              "      <td>2.010000e+04</td>\n",
              "      <td>9.908475</td>\n",
              "      <td>2.156250e-21</td>\n",
              "      <td>2.106901e+99</td>\n",
              "      <td>228.701142</td>\n",
              "    </tr>\n",
              "    <tr>\n",
              "      <th>99</th>\n",
              "      <td>99</td>\n",
              "      <td>4.214013e+95</td>\n",
              "      <td>220.183999</td>\n",
              "      <td>6.534091e-23</td>\n",
              "      <td>1</td>\n",
              "      <td>2.000000e+02</td>\n",
              "      <td>5.298317</td>\n",
              "      <td>4.312500e-21</td>\n",
              "      <td>8.428026e+97</td>\n",
              "      <td>225.482317</td>\n",
              "    </tr>\n",
              "    <tr>\n",
              "      <th>100</th>\n",
              "      <td>100</td>\n",
              "      <td>1.681391e+96</td>\n",
              "      <td>221.567790</td>\n",
              "      <td>6.468750e-23</td>\n",
              "      <td>0</td>\n",
              "      <td>1.000000e+00</td>\n",
              "      <td>0.000000</td>\n",
              "      <td>NaN</td>\n",
              "      <td>1.681391e+96</td>\n",
              "      <td>221.567790</td>\n",
              "    </tr>\n",
              "  </tbody>\n",
              "</table>\n",
              "</div>"
            ],
            "text/plain": [
              "     q_A      \\Omega_A       S_A/k  ...         1/T_B       \\Omega_T       S_T/k\n",
              "91    91  4.959123e+90  208.833887  ...  4.791667e-22  8.356034e+105  243.894419\n",
              "92    92  2.107627e+91  210.280806  ...  5.390625e-22  1.536627e+105  242.201024\n",
              "93    93  8.883762e+91  211.719469  ...  6.160714e-22  2.503174e+104  240.386409\n",
              "94    94  3.714169e+92  213.149983  ...  7.187500e-22  3.556203e+103  238.434958\n",
              "95    95  1.540403e+93  214.572457  ...  8.625000e-22  4.316747e+102  236.326182\n",
              "96    96  6.338115e+93  215.986995  ...  1.078125e-21  4.353337e+101  234.032037\n",
              "97    97  2.587519e+94  217.393698  ...  1.437500e-21  3.501948e+100  231.511829\n",
              "98    98  1.048209e+95  218.792667  ...  2.156250e-21   2.106901e+99  228.701142\n",
              "99    99  4.214013e+95  220.183999  ...  4.312500e-21   8.428026e+97  225.482317\n",
              "100  100  1.681391e+96  221.567790  ...           NaN   1.681391e+96  221.567790\n",
              "\n",
              "[10 rows x 10 columns]"
            ]
          },
          "metadata": {},
          "execution_count": 74
        }
      ]
    },
    {
      "cell_type": "code",
      "metadata": {
        "colab": {
          "base_uri": "https://localhost:8080/",
          "height": 324
        },
        "id": "V0GiIzvwNDU9",
        "outputId": "16073933-148a-4fb6-f637-ea05aa756c5b"
      },
      "source": [
        "lf.take([55,56,58,59, 60,61,62, 64,65])"
      ],
      "execution_count": null,
      "outputs": [
        {
          "output_type": "execute_result",
          "data": {
            "text/html": [
              "<div>\n",
              "<style scoped>\n",
              "    .dataframe tbody tr th:only-of-type {\n",
              "        vertical-align: middle;\n",
              "    }\n",
              "\n",
              "    .dataframe tbody tr th {\n",
              "        vertical-align: top;\n",
              "    }\n",
              "\n",
              "    .dataframe thead th {\n",
              "        text-align: right;\n",
              "    }\n",
              "</style>\n",
              "<table border=\"1\" class=\"dataframe\">\n",
              "  <thead>\n",
              "    <tr style=\"text-align: right;\">\n",
              "      <th></th>\n",
              "      <th>q_A</th>\n",
              "      <th>\\Omega_A</th>\n",
              "      <th>S_A/k</th>\n",
              "      <th>1/T_A</th>\n",
              "      <th>q_B</th>\n",
              "      <th>\\Omega_B</th>\n",
              "      <th>S_B/k</th>\n",
              "      <th>1/T_B</th>\n",
              "      <th>\\Omega_T</th>\n",
              "      <th>S_T/k</th>\n",
              "    </tr>\n",
              "  </thead>\n",
              "  <tbody>\n",
              "    <tr>\n",
              "      <th>55</th>\n",
              "      <td>55</td>\n",
              "      <td>1.473125e+65</td>\n",
              "      <td>150.055417</td>\n",
              "      <td>1.176136e-22</td>\n",
              "      <td>45</td>\n",
              "      <td>2.982131e+49</td>\n",
              "      <td>113.919308</td>\n",
              "      <td>9.583333e-23</td>\n",
              "      <td>4.393050e+114</td>\n",
              "      <td>263.974724</td>\n",
              "    </tr>\n",
              "    <tr>\n",
              "      <th>56</th>\n",
              "      <td>56</td>\n",
              "      <td>9.338557e+65</td>\n",
              "      <td>151.902183</td>\n",
              "      <td>1.155134e-22</td>\n",
              "      <td>44</td>\n",
              "      <td>5.499832e+48</td>\n",
              "      <td>112.228802</td>\n",
              "      <td>9.801136e-23</td>\n",
              "      <td>5.136049e+114</td>\n",
              "      <td>264.130985</td>\n",
              "    </tr>\n",
              "    <tr>\n",
              "      <th>58</th>\n",
              "      <td>58</td>\n",
              "      <td>3.590006e+67</td>\n",
              "      <td>155.551355</td>\n",
              "      <td>1.115302e-22</td>\n",
              "      <td>42</td>\n",
              "      <td>1.769493e+47</td>\n",
              "      <td>108.792193</td>\n",
              "      <td>1.026786e-22</td>\n",
              "      <td>6.352491e+114</td>\n",
              "      <td>264.343548</td>\n",
              "    </tr>\n",
              "    <tr>\n",
              "      <th>59</th>\n",
              "      <td>59</td>\n",
              "      <td>2.178343e+68</td>\n",
              "      <td>157.354351</td>\n",
              "      <td>1.096398e-22</td>\n",
              "      <td>41</td>\n",
              "      <td>3.083764e+46</td>\n",
              "      <td>107.045065</td>\n",
              "      <td>1.051829e-22</td>\n",
              "      <td>6.717494e+114</td>\n",
              "      <td>264.399416</td>\n",
              "    </tr>\n",
              "    <tr>\n",
              "      <th>60</th>\n",
              "      <td>60</td>\n",
              "      <td>1.303375e+69</td>\n",
              "      <td>159.143328</td>\n",
              "      <td>1.078125e-22</td>\n",
              "      <td>40</td>\n",
              "      <td>5.268097e+45</td>\n",
              "      <td>105.277998</td>\n",
              "      <td>1.078125e-22</td>\n",
              "      <td>6.866305e+114</td>\n",
              "      <td>264.421327</td>\n",
              "    </tr>\n",
              "    <tr>\n",
              "      <th>61</th>\n",
              "      <td>61</td>\n",
              "      <td>7.692049e+69</td>\n",
              "      <td>160.918559</td>\n",
              "      <td>1.060451e-22</td>\n",
              "      <td>39</td>\n",
              "      <td>8.816899e+44</td>\n",
              "      <td>103.490414</td>\n",
              "      <td>1.105769e-22</td>\n",
              "      <td>6.782001e+114</td>\n",
              "      <td>264.408973</td>\n",
              "    </tr>\n",
              "    <tr>\n",
              "      <th>62</th>\n",
              "      <td>62</td>\n",
              "      <td>4.478757e+70</td>\n",
              "      <td>162.680302</td>\n",
              "      <td>1.043347e-22</td>\n",
              "      <td>38</td>\n",
              "      <td>1.444786e+44</td>\n",
              "      <td>101.681705</td>\n",
              "      <td>1.134868e-22</td>\n",
              "      <td>6.470846e+114</td>\n",
              "      <td>264.362007</td>\n",
              "    </tr>\n",
              "    <tr>\n",
              "      <th>64</th>\n",
              "      <td>64</td>\n",
              "      <td>1.459662e+72</td>\n",
              "      <td>166.164331</td>\n",
              "      <td>1.010742e-22</td>\n",
              "      <td>36</td>\n",
              "      <td>3.631855e+42</td>\n",
              "      <td>97.998317</td>\n",
              "      <td>1.197917e-22</td>\n",
              "      <td>5.301279e+114</td>\n",
              "      <td>264.162649</td>\n",
              "    </tr>\n",
              "    <tr>\n",
              "      <th>65</th>\n",
              "      <td>65</td>\n",
              "      <td>8.174106e+72</td>\n",
              "      <td>167.887098</td>\n",
              "      <td>9.951923e-23</td>\n",
              "      <td>35</td>\n",
              "      <td>5.563692e+41</td>\n",
              "      <td>96.122251</td>\n",
              "      <td>1.232143e-22</td>\n",
              "      <td>4.547821e+114</td>\n",
              "      <td>264.009349</td>\n",
              "    </tr>\n",
              "  </tbody>\n",
              "</table>\n",
              "</div>"
            ],
            "text/plain": [
              "    q_A      \\Omega_A       S_A/k  ...         1/T_B       \\Omega_T       S_T/k\n",
              "55   55  1.473125e+65  150.055417  ...  9.583333e-23  4.393050e+114  263.974724\n",
              "56   56  9.338557e+65  151.902183  ...  9.801136e-23  5.136049e+114  264.130985\n",
              "58   58  3.590006e+67  155.551355  ...  1.026786e-22  6.352491e+114  264.343548\n",
              "59   59  2.178343e+68  157.354351  ...  1.051829e-22  6.717494e+114  264.399416\n",
              "60   60  1.303375e+69  159.143328  ...  1.078125e-22  6.866305e+114  264.421327\n",
              "61   61  7.692049e+69  160.918559  ...  1.105769e-22  6.782001e+114  264.408973\n",
              "62   62  4.478757e+70  162.680302  ...  1.134868e-22  6.470846e+114  264.362007\n",
              "64   64  1.459662e+72  166.164331  ...  1.197917e-22  5.301279e+114  264.162649\n",
              "65   65  8.174106e+72  167.887098  ...  1.232143e-22  4.547821e+114  264.009349\n",
              "\n",
              "[9 rows x 10 columns]"
            ]
          },
          "metadata": {},
          "execution_count": 102
        }
      ]
    },
    {
      "cell_type": "markdown",
      "metadata": {
        "id": "WsQ5U15ISqa8"
      },
      "source": [
        "#Notamos que el valor de en medio es el 60 y vemos esto en la siguiente gráfica también"
      ]
    },
    {
      "cell_type": "code",
      "metadata": {
        "colab": {
          "base_uri": "https://localhost:8080/",
          "height": 78
        },
        "id": "mxE15Dj9VJoJ",
        "outputId": "9dca60e5-469d-47c7-df50-2b447a1c3c08"
      },
      "source": [
        "lf.take([60])"
      ],
      "execution_count": null,
      "outputs": [
        {
          "output_type": "execute_result",
          "data": {
            "text/html": [
              "<div>\n",
              "<style scoped>\n",
              "    .dataframe tbody tr th:only-of-type {\n",
              "        vertical-align: middle;\n",
              "    }\n",
              "\n",
              "    .dataframe tbody tr th {\n",
              "        vertical-align: top;\n",
              "    }\n",
              "\n",
              "    .dataframe thead th {\n",
              "        text-align: right;\n",
              "    }\n",
              "</style>\n",
              "<table border=\"1\" class=\"dataframe\">\n",
              "  <thead>\n",
              "    <tr style=\"text-align: right;\">\n",
              "      <th></th>\n",
              "      <th>q_A</th>\n",
              "      <th>\\Omega_A</th>\n",
              "      <th>S_A/k</th>\n",
              "      <th>1/T_A</th>\n",
              "      <th>q_B</th>\n",
              "      <th>\\Omega_B</th>\n",
              "      <th>S_B/k</th>\n",
              "      <th>1/T_B</th>\n",
              "      <th>\\Omega_T</th>\n",
              "      <th>S_T/k</th>\n",
              "    </tr>\n",
              "  </thead>\n",
              "  <tbody>\n",
              "    <tr>\n",
              "      <th>60</th>\n",
              "      <td>60</td>\n",
              "      <td>1.303375e+69</td>\n",
              "      <td>159.143328</td>\n",
              "      <td>1.078125e-22</td>\n",
              "      <td>40</td>\n",
              "      <td>5.268097e+45</td>\n",
              "      <td>105.277998</td>\n",
              "      <td>1.078125e-22</td>\n",
              "      <td>6.866305e+114</td>\n",
              "      <td>264.421327</td>\n",
              "    </tr>\n",
              "  </tbody>\n",
              "</table>\n",
              "</div>"
            ],
            "text/plain": [
              "    q_A      \\Omega_A       S_A/k  ...         1/T_B       \\Omega_T       S_T/k\n",
              "60   60  1.303375e+69  159.143328  ...  1.078125e-22  6.866305e+114  264.421327\n",
              "\n",
              "[1 rows x 10 columns]"
            ]
          },
          "metadata": {},
          "execution_count": 128
        }
      ]
    },
    {
      "cell_type": "markdown",
      "metadata": {
        "id": "HPPZ5afcVXl4"
      },
      "source": [
        "# Realizamos una grafica para estos datos"
      ]
    },
    {
      "cell_type": "code",
      "metadata": {
        "id": "v5c6_X00VVkq"
      },
      "source": [
        "x = np.linspace(0,100,101)"
      ],
      "execution_count": null,
      "outputs": []
    },
    {
      "cell_type": "code",
      "metadata": {
        "colab": {
          "base_uri": "https://localhost:8080/",
          "height": 515
        },
        "id": "qVLXB-ZJT082",
        "outputId": "5a4ca0b5-2fb6-4f98-9527-91273af41a3a"
      },
      "source": [
        "plt.rcParams[\"figure.figsize\"] = (16, 8)\n",
        "plt.xlabel(r\"$q_{total}$\")\n",
        "plt.ylabel(r\"$\\Omega _{total}$\")\n",
        "plt.title(r\"$\\Omega _{total} \\ \\ \\ vs \\ \\ \\ q_{total}$\")\n",
        "plt.plot(x, OM_T, color=\"blue\", linewidth=2.5, linestyle=\"-\", label= r\"$\\Omega _{total}$\")\n",
        "plt.legend(loc='upper right')\n",
        "plt.axvline(x=60, ymin=0, ymax=max(OM_T), color=\"green\")\n",
        "plt.grid()\n",
        "plt.show()"
      ],
      "execution_count": null,
      "outputs": [
        {
          "output_type": "display_data",
          "data": {
            "image/png": "[encoded data removed]",
            "text/plain": [
              "<Figure size 1152x576 with 1 Axes>"
            ]
          },
          "metadata": {
            "needs_background": "light"
          }
        }
      ]
    },
    {
      "cell_type": "markdown",
      "metadata": {
        "id": "AxXLUazaX5b9"
      },
      "source": [
        "# Mostramos también de la Entropía Normalizda"
      ]
    },
    {
      "cell_type": "code",
      "metadata": {
        "colab": {
          "base_uri": "https://localhost:8080/",
          "height": 516
        },
        "id": "a463OL-ZS5nU",
        "outputId": "eca947cd-7272-40da-e853-764b660fa6ea"
      },
      "source": [
        "plt.rcParams[\"figure.figsize\"] = (16, 8)\n",
        "plt.xlabel(r\"$q_{total}$\")\n",
        "plt.ylabel(r\"$S_{total}/k$\")\n",
        "plt.title(r\"$S_{total}/k \\ \\ \\ vs \\ \\ \\ q_{total}$\")\n",
        "plt.plot(x, S_T, color=\"blue\", linewidth=2.5, linestyle=\"-\", label= r\"$S_{total}/k$\")\n",
        "plt.legend(loc='upper right')\n",
        "plt.axvline(x=60, ymin=0, ymax=max(S_T), color=\"green\")\n",
        "plt.grid()\n",
        "plt.show()"
      ],
      "execution_count": null,
      "outputs": [
        {
          "output_type": "display_data",
          "data": {
            "image/png": "[encoded data removed]",
            "text/plain": [
              "<Figure size 1152x576 with 1 Axes>"
            ]
          },
          "metadata": {
            "needs_background": "light"
          }
        }
      ]
    },
    {
      "cell_type": "markdown",
      "metadata": {
        "id": "tooVeogfZQQZ"
      },
      "source": [
        "# 4b)\n"
      ]
    },
    {
      "cell_type": "markdown",
      "metadata": {
        "id": "CTnYyBcUZ_F3"
      },
      "source": [
        "De lo anterior vemos que este valor es para:"
      ]
    },
    {
      "cell_type": "code",
      "metadata": {
        "colab": {
          "base_uri": "https://localhost:8080/",
          "height": 515
        },
        "id": "ciiIEfwXatXs",
        "outputId": "c8b739ab-b835-4fd1-c805-d192030b2e88"
      },
      "source": [
        "# Graficamos las 2 para ver este valor\n",
        "\n",
        "plt.rcParams[\"figure.figsize\"] = (16, 8)\n",
        "plt.xlabel(r\"$q_{total}$\")\n",
        "plt.ylabel(r\"$1/T$\")\n",
        "plt.title(r\"$1/T_A \\ \\ \\ y \\ \\ \\ 1/T_B$\")\n",
        "plt.plot(x[55:65], iT_A[55:65], color=\"red\", linewidth=1.5, linestyle=\"-\", label= r\"$1/T_A$\")\n",
        "plt.plot(x[55:65], iT_B[55:65], color=\"blue\", linewidth=1.5, linestyle=\"-\", label= r\"$1/T_B$\")\n",
        "plt.legend(loc='upper right')\n",
        "plt.axvline(x=60, ymin=0, ymax=max(S_T), color=\"green\")\n",
        "plt.grid()\n",
        "plt.show()"
      ],
      "execution_count": null,
      "outputs": [
        {
          "output_type": "display_data",
          "data": {
            "image/png": "[encoded data removed]",
            "text/plain": [
              "<Figure size 1152x576 with 1 Axes>"
            ]
          },
          "metadata": {
            "needs_background": "light"
          }
        }
      ]
    },
    {
      "cell_type": "code",
      "metadata": {
        "colab": {
          "base_uri": "https://localhost:8080/",
          "height": 78
        },
        "id": "gCVGxj3PYfRh",
        "outputId": "898c78ec-ed85-4486-e47c-40b3e6d0286b"
      },
      "source": [
        "lf.take([60])"
      ],
      "execution_count": null,
      "outputs": [
        {
          "output_type": "execute_result",
          "data": {
            "text/html": [
              "<div>\n",
              "<style scoped>\n",
              "    .dataframe tbody tr th:only-of-type {\n",
              "        vertical-align: middle;\n",
              "    }\n",
              "\n",
              "    .dataframe tbody tr th {\n",
              "        vertical-align: top;\n",
              "    }\n",
              "\n",
              "    .dataframe thead th {\n",
              "        text-align: right;\n",
              "    }\n",
              "</style>\n",
              "<table border=\"1\" class=\"dataframe\">\n",
              "  <thead>\n",
              "    <tr style=\"text-align: right;\">\n",
              "      <th></th>\n",
              "      <th>q_A</th>\n",
              "      <th>\\Omega_A</th>\n",
              "      <th>S_A/k</th>\n",
              "      <th>1/T_A</th>\n",
              "      <th>q_B</th>\n",
              "      <th>\\Omega_B</th>\n",
              "      <th>S_B/k</th>\n",
              "      <th>1/T_B</th>\n",
              "      <th>\\Omega_T</th>\n",
              "      <th>S_T/k</th>\n",
              "    </tr>\n",
              "  </thead>\n",
              "  <tbody>\n",
              "    <tr>\n",
              "      <th>60</th>\n",
              "      <td>60</td>\n",
              "      <td>1.303375e+69</td>\n",
              "      <td>159.143328</td>\n",
              "      <td>1.078125e-22</td>\n",
              "      <td>40</td>\n",
              "      <td>5.268097e+45</td>\n",
              "      <td>105.277998</td>\n",
              "      <td>1.078125e-22</td>\n",
              "      <td>6.866305e+114</td>\n",
              "      <td>264.421327</td>\n",
              "    </tr>\n",
              "  </tbody>\n",
              "</table>\n",
              "</div>"
            ],
            "text/plain": [
              "    q_A      \\Omega_A       S_A/k  ...         1/T_B       \\Omega_T       S_T/k\n",
              "60   60  1.303375e+69  159.143328  ...  1.078125e-22  6.866305e+114  264.421327\n",
              "\n",
              "[1 rows x 10 columns]"
            ]
          },
          "metadata": {},
          "execution_count": 148
        }
      ]
    },
    {
      "cell_type": "markdown",
      "metadata": {
        "id": "KARmPsWhaK13"
      },
      "source": [
        "Vemos que estas temperaturas y entropía normalizada es\n",
        "\n",
        "\\begin{equation}\n",
        "\\frac{1}{T_A} \\approx \\frac{1}{T_B} = 1.078125x10^{-22}\n",
        "\\end{equation}\n",
        "\n",
        "Para la entropía normalizada es,\n",
        "\\begin{equation}\n",
        "\\frac{S_T}{k} = 264.421327\n",
        "\\end{equation}\n"
      ]
    },
    {
      "cell_type": "markdown",
      "metadata": {
        "id": "vhHvVDe9dB6a"
      },
      "source": [
        "# 4c)"
      ]
    },
    {
      "cell_type": "markdown",
      "metadata": {
        "id": "Dis_-eV8dBU6"
      },
      "source": [
        "Vemos las gráficas juntas"
      ]
    },
    {
      "cell_type": "code",
      "metadata": {
        "colab": {
          "base_uri": "https://localhost:8080/",
          "height": 516
        },
        "id": "-fGVIArSaI3_",
        "outputId": "838d5549-09ac-4222-cbdc-b5588f24dd4e"
      },
      "source": [
        "plt.rcParams[\"figure.figsize\"] = (16, 8)\n",
        "plt.xlabel(r\"$q_A$\")\n",
        "plt.ylabel(r\"$S$\")\n",
        "plt.title(r\"$Entropías$\")\n",
        "plt.plot(x, S_T, color=\"red\", linewidth=1.5, linestyle=\"-\", label= r\"$S_T/k$\")\n",
        "plt.plot(x, S_A, color=\"blue\", linewidth=1.5, linestyle=\"-\", label= r\"$S_A/k$\")\n",
        "plt.plot(x, S_B, color=\"m\", linewidth=1.5, linestyle=\"-\", label= r\"$S_B/k$\")\n",
        "plt.legend(loc='upper right')\n",
        "plt.axvline(x=60, ymin=0, ymax=max(S_T), color=\"green\")\n",
        "plt.grid()\n",
        "plt.show()"
      ],
      "execution_count": null,
      "outputs": [
        {
          "output_type": "display_data",
          "data": {
            "image/png": "[encoded data removed]",
            "text/plain": [
              "<Figure size 1152x576 with 1 Axes>"
            ]
          },
          "metadata": {
            "needs_background": "light"
          }
        }
      ]
    },
    {
      "cell_type": "markdown",
      "metadata": {
        "id": "Lat1d42oebIf"
      },
      "source": [
        "De esta gráfica vemos y podemos intuir el intercambio de energía así como el máximo de la entropía."
      ]
    },
    {
      "cell_type": "code",
      "metadata": {
        "id": "gpdp7xT8dw2m"
      },
      "source": [
        ""
      ],
      "execution_count": null,
      "outputs": []
    }
  ]
}