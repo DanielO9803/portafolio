{
  "nbformat": 4,
  "nbformat_minor": 0,
  "metadata": {
    "kernelspec": {
      "display_name": "Python 3",
      "language": "python",
      "name": "python3"
    },
    "language_info": {
      "codemirror_mode": {
        "name": "ipython",
        "version": 3
      },
      "file_extension": ".py",
      "mimetype": "text/x-python",
      "name": "python",
      "nbconvert_exporter": "python",
      "pygments_lexer": "ipython3",
      "version": "3.7.9"
    },
    "colab": {
      "name": "FE_T2_OMOD.ipynb",
      "provenance": []
    },
    "accelerator": "GPU"
  },
  "cells": [
    {
      "cell_type": "markdown",
      "metadata": {
        "id": "bk1eVprtAPWe"
      },
      "source": [
        "## Oscar Daniel Ortega Morales\n",
        "## Física Estadística \n",
        "## Tarea 2"
      ]
    },
    {
      "cell_type": "code",
      "metadata": {
        "id": "1ZpSE4gtAPWp"
      },
      "source": [
        "#Importamo Libreías\n",
        "import numpy as np\n",
        "import matplotlib.pyplot as plt\n",
        "import random as rd"
      ],
      "execution_count": null,
      "outputs": []
    },
    {
      "cell_type": "code",
      "metadata": {
        "id": "GUuPStrTAPWv",
        "outputId": "e897e856-cc1b-447e-9682-55d7849b1000",
        "colab": {
          "base_uri": "https://localhost:8080/",
          "height": 380
        }
      },
      "source": [
        "#Importamos y nombramos a las distintas tablas de datos.\n",
        "\n",
        "distr_1 = np.loadtxt('Distribucion1.txt',delimiter = ',')\n",
        "distr_2 = np.loadtxt('Distribucion2.txt',delimiter = ',')\n",
        "distr_3 = np.loadtxt('Distribucion3.txt',delimiter = ',')"
      ],
      "execution_count": null,
      "outputs": [
        {
          "output_type": "error",
          "ename": "OSError",
          "evalue": "ignored",
          "traceback": [
            "\u001b[0;31m---------------------------------------------------------------------------\u001b[0m",
            "\u001b[0;31mOSError\u001b[0m                                   Traceback (most recent call last)",
            "\u001b[0;32m<ipython-input-2-4f3df71b7b0e>\u001b[0m in \u001b[0;36m<module>\u001b[0;34m()\u001b[0m\n\u001b[1;32m      1\u001b[0m \u001b[0;31m#Importamos y nombramos a las distintas tablas de datos.\u001b[0m\u001b[0;34m\u001b[0m\u001b[0;34m\u001b[0m\u001b[0;34m\u001b[0m\u001b[0m\n\u001b[1;32m      2\u001b[0m \u001b[0;34m\u001b[0m\u001b[0m\n\u001b[0;32m----> 3\u001b[0;31m \u001b[0mdistr_1\u001b[0m \u001b[0;34m=\u001b[0m \u001b[0mnp\u001b[0m\u001b[0;34m.\u001b[0m\u001b[0mloadtxt\u001b[0m\u001b[0;34m(\u001b[0m\u001b[0;34m'Distribucion1.txt'\u001b[0m\u001b[0;34m,\u001b[0m\u001b[0mdelimiter\u001b[0m \u001b[0;34m=\u001b[0m \u001b[0;34m','\u001b[0m\u001b[0;34m)\u001b[0m\u001b[0;34m\u001b[0m\u001b[0;34m\u001b[0m\u001b[0m\n\u001b[0m\u001b[1;32m      4\u001b[0m \u001b[0mdistr_2\u001b[0m \u001b[0;34m=\u001b[0m \u001b[0mnp\u001b[0m\u001b[0;34m.\u001b[0m\u001b[0mloadtxt\u001b[0m\u001b[0;34m(\u001b[0m\u001b[0;34m'Distribucion2.txt'\u001b[0m\u001b[0;34m,\u001b[0m\u001b[0mdelimiter\u001b[0m \u001b[0;34m=\u001b[0m \u001b[0;34m','\u001b[0m\u001b[0;34m)\u001b[0m\u001b[0;34m\u001b[0m\u001b[0;34m\u001b[0m\u001b[0m\n\u001b[1;32m      5\u001b[0m \u001b[0mdistr_3\u001b[0m \u001b[0;34m=\u001b[0m \u001b[0mnp\u001b[0m\u001b[0;34m.\u001b[0m\u001b[0mloadtxt\u001b[0m\u001b[0;34m(\u001b[0m\u001b[0;34m'Distribucion3.txt'\u001b[0m\u001b[0;34m,\u001b[0m\u001b[0mdelimiter\u001b[0m \u001b[0;34m=\u001b[0m \u001b[0;34m','\u001b[0m\u001b[0;34m)\u001b[0m\u001b[0;34m\u001b[0m\u001b[0;34m\u001b[0m\u001b[0m\n",
            "\u001b[0;32m/usr/local/lib/python3.7/dist-packages/numpy/lib/npyio.py\u001b[0m in \u001b[0;36mloadtxt\u001b[0;34m(fname, dtype, comments, delimiter, converters, skiprows, usecols, unpack, ndmin, encoding, max_rows)\u001b[0m\n\u001b[1;32m    959\u001b[0m             \u001b[0mfname\u001b[0m \u001b[0;34m=\u001b[0m \u001b[0mos_fspath\u001b[0m\u001b[0;34m(\u001b[0m\u001b[0mfname\u001b[0m\u001b[0;34m)\u001b[0m\u001b[0;34m\u001b[0m\u001b[0;34m\u001b[0m\u001b[0m\n\u001b[1;32m    960\u001b[0m         \u001b[0;32mif\u001b[0m \u001b[0m_is_string_like\u001b[0m\u001b[0;34m(\u001b[0m\u001b[0mfname\u001b[0m\u001b[0;34m)\u001b[0m\u001b[0;34m:\u001b[0m\u001b[0;34m\u001b[0m\u001b[0;34m\u001b[0m\u001b[0m\n\u001b[0;32m--> 961\u001b[0;31m             \u001b[0mfh\u001b[0m \u001b[0;34m=\u001b[0m \u001b[0mnp\u001b[0m\u001b[0;34m.\u001b[0m\u001b[0mlib\u001b[0m\u001b[0;34m.\u001b[0m\u001b[0m_datasource\u001b[0m\u001b[0;34m.\u001b[0m\u001b[0mopen\u001b[0m\u001b[0;34m(\u001b[0m\u001b[0mfname\u001b[0m\u001b[0;34m,\u001b[0m \u001b[0;34m'rt'\u001b[0m\u001b[0;34m,\u001b[0m \u001b[0mencoding\u001b[0m\u001b[0;34m=\u001b[0m\u001b[0mencoding\u001b[0m\u001b[0;34m)\u001b[0m\u001b[0;34m\u001b[0m\u001b[0;34m\u001b[0m\u001b[0m\n\u001b[0m\u001b[1;32m    962\u001b[0m             \u001b[0mfencoding\u001b[0m \u001b[0;34m=\u001b[0m \u001b[0mgetattr\u001b[0m\u001b[0;34m(\u001b[0m\u001b[0mfh\u001b[0m\u001b[0;34m,\u001b[0m \u001b[0;34m'encoding'\u001b[0m\u001b[0;34m,\u001b[0m \u001b[0;34m'latin1'\u001b[0m\u001b[0;34m)\u001b[0m\u001b[0;34m\u001b[0m\u001b[0;34m\u001b[0m\u001b[0m\n\u001b[1;32m    963\u001b[0m             \u001b[0mfh\u001b[0m \u001b[0;34m=\u001b[0m \u001b[0miter\u001b[0m\u001b[0;34m(\u001b[0m\u001b[0mfh\u001b[0m\u001b[0;34m)\u001b[0m\u001b[0;34m\u001b[0m\u001b[0;34m\u001b[0m\u001b[0m\n",
            "\u001b[0;32m/usr/local/lib/python3.7/dist-packages/numpy/lib/_datasource.py\u001b[0m in \u001b[0;36mopen\u001b[0;34m(path, mode, destpath, encoding, newline)\u001b[0m\n\u001b[1;32m    193\u001b[0m \u001b[0;34m\u001b[0m\u001b[0m\n\u001b[1;32m    194\u001b[0m     \u001b[0mds\u001b[0m \u001b[0;34m=\u001b[0m \u001b[0mDataSource\u001b[0m\u001b[0;34m(\u001b[0m\u001b[0mdestpath\u001b[0m\u001b[0;34m)\u001b[0m\u001b[0;34m\u001b[0m\u001b[0;34m\u001b[0m\u001b[0m\n\u001b[0;32m--> 195\u001b[0;31m     \u001b[0;32mreturn\u001b[0m \u001b[0mds\u001b[0m\u001b[0;34m.\u001b[0m\u001b[0mopen\u001b[0m\u001b[0;34m(\u001b[0m\u001b[0mpath\u001b[0m\u001b[0;34m,\u001b[0m \u001b[0mmode\u001b[0m\u001b[0;34m,\u001b[0m \u001b[0mencoding\u001b[0m\u001b[0;34m=\u001b[0m\u001b[0mencoding\u001b[0m\u001b[0;34m,\u001b[0m \u001b[0mnewline\u001b[0m\u001b[0;34m=\u001b[0m\u001b[0mnewline\u001b[0m\u001b[0;34m)\u001b[0m\u001b[0;34m\u001b[0m\u001b[0;34m\u001b[0m\u001b[0m\n\u001b[0m\u001b[1;32m    196\u001b[0m \u001b[0;34m\u001b[0m\u001b[0m\n\u001b[1;32m    197\u001b[0m \u001b[0;34m\u001b[0m\u001b[0m\n",
            "\u001b[0;32m/usr/local/lib/python3.7/dist-packages/numpy/lib/_datasource.py\u001b[0m in \u001b[0;36mopen\u001b[0;34m(self, path, mode, encoding, newline)\u001b[0m\n\u001b[1;32m    533\u001b[0m                                       encoding=encoding, newline=newline)\n\u001b[1;32m    534\u001b[0m         \u001b[0;32melse\u001b[0m\u001b[0;34m:\u001b[0m\u001b[0;34m\u001b[0m\u001b[0;34m\u001b[0m\u001b[0m\n\u001b[0;32m--> 535\u001b[0;31m             \u001b[0;32mraise\u001b[0m \u001b[0mIOError\u001b[0m\u001b[0;34m(\u001b[0m\u001b[0;34m\"%s not found.\"\u001b[0m \u001b[0;34m%\u001b[0m \u001b[0mpath\u001b[0m\u001b[0;34m)\u001b[0m\u001b[0;34m\u001b[0m\u001b[0;34m\u001b[0m\u001b[0m\n\u001b[0m\u001b[1;32m    536\u001b[0m \u001b[0;34m\u001b[0m\u001b[0m\n\u001b[1;32m    537\u001b[0m \u001b[0;34m\u001b[0m\u001b[0m\n",
            "\u001b[0;31mOSError\u001b[0m: Distribucion1.txt not found."
          ]
        }
      ]
    },
    {
      "cell_type": "markdown",
      "metadata": {
        "id": "KHTfax66APWx"
      },
      "source": [
        "# 1a)"
      ]
    },
    {
      "cell_type": "code",
      "metadata": {
        "id": "IVdYIynCAPWy"
      },
      "source": [
        "#Declaramos las funciones para calcular los momentos, así como las funciones que fungen como auxiliares\n",
        "def suma(x):\n",
        "    a = 0\n",
        "    for i in x:\n",
        "        a += i\n",
        "    return a\n",
        "def promedio(y):\n",
        "    b = 0\n",
        "    for i in y:\n",
        "        b += i\n",
        "    return b/len(y)\n",
        "def momento(z, n):\n",
        "    c = 0\n",
        "    for i in z:\n",
        "        c += i\n",
        "    d = c/len(z)\n",
        "    #e = pow(z - d, n)\n",
        "    f = 0\n",
        "    for i in z:\n",
        "        f += pow(i - d, n)\n",
        "    return f / len(z)"
      ],
      "execution_count": null,
      "outputs": []
    },
    {
      "cell_type": "code",
      "metadata": {
        "id": "Ca5wiVH1APW0",
        "outputId": "f09e2db5-b088-41dc-faeb-6564d7101e67"
      },
      "source": [
        "#Calculamos cada una de los 4 momentos de las 3 distribucion con la función \"momento\"\n",
        "print(\"El primer momento de la Distribución 1 es: \", momento(distr_1,0))\n",
        "print(\"El segundo momento de la Distribución 1 es: \", momento(distr_1,1))\n",
        "print(\"El tercer momento de la Distribución 1 es: \", momento(distr_1,2))\n",
        "print(\"El cuarto momento de la Distribución 1 es: \", momento(distr_1,3))"
      ],
      "execution_count": null,
      "outputs": [
        {
          "name": "stdout",
          "output_type": "stream",
          "text": [
            "El primer momento de la Distribución 1 es:  1.0\n",
            "El segundo momento de la Distribución 1 es:  -5.64612245845808e-17\n",
            "El tercer momento de la Distribución 1 es:  0.33296360803407443\n",
            "El cuarto momento de la Distribución 1 es:  0.0006778684686343734\n"
          ]
        }
      ]
    },
    {
      "cell_type": "code",
      "metadata": {
        "id": "2_Jait6dAPW3",
        "outputId": "df8a89ab-4e39-4890-80e1-7118e5403ece"
      },
      "source": [
        "#Calculamos cada una de los 4 momentos de las 3 distribucion con la función \"momento\"\n",
        "print(\"El primer momento de la Distribución 2 es: \", momento(distr_2,0))\n",
        "print(\"El segundo momento de la Distribución 2 es: \", momento(distr_2,1))\n",
        "print(\"El tercer momento de la Distribución 2 es: \", momento(distr_2,2))\n",
        "print(\"El cuarto momento de la Distribución 2 es: \", momento(distr_2,3))"
      ],
      "execution_count": null,
      "outputs": [
        {
          "name": "stdout",
          "output_type": "stream",
          "text": [
            "El primer momento de la Distribución 2 es:  1.0\n",
            "El segundo momento de la Distribución 2 es:  3.4998559605980974e-15\n",
            "El tercer momento de la Distribución 2 es:  3.9758075048802795\n",
            "El cuarto momento de la Distribución 2 es:  0.010835119461634974\n"
          ]
        }
      ]
    },
    {
      "cell_type": "code",
      "metadata": {
        "id": "lHvTENuJAPW7",
        "outputId": "e5036426-24f9-4748-e7a4-831a6e54c794"
      },
      "source": [
        "#Calculamos cada una de los 4 momentos de las 3 distribucion con la función \"momento\"\n",
        "print(\"El primer momento de la Distribución 3 es: \", momento(distr_3,0))\n",
        "print(\"El segundo momento de la Distribución 3 es: \", momento(distr_3,1))\n",
        "print(\"El tercer momento de la Distribución 3 es: \", momento(distr_3,2))\n",
        "print(\"El cuarto momento de la Distribución 3 es: \", momento(distr_3,3))"
      ],
      "execution_count": null,
      "outputs": [
        {
          "name": "stdout",
          "output_type": "stream",
          "text": [
            "El primer momento de la Distribución 3 es:  1.0\n",
            "El segundo momento de la Distribución 3 es:  -4.795575048177625e-16\n",
            "El tercer momento de la Distribución 3 es:  96583.51398287508\n",
            "El cuarto momento de la Distribución 3 es:  5937360901.740372\n"
          ]
        }
      ]
    },
    {
      "cell_type": "markdown",
      "metadata": {
        "id": "NAWVOl1KAPW-"
      },
      "source": [
        "# 1b)"
      ]
    },
    {
      "cell_type": "code",
      "metadata": {
        "id": "tm8p3VRsAPW_"
      },
      "source": [
        "#Realizamos los Histogramas"
      ],
      "execution_count": null,
      "outputs": []
    },
    {
      "cell_type": "code",
      "metadata": {
        "id": "iZ8Q7l6zAPXB",
        "outputId": "d8b3c1c8-911a-4390-d2b8-97d51de3b248"
      },
      "source": [
        "intervalos = range(-2, 3) #calculamos los extremos de los intervalos\n",
        "\n",
        "plt.hist(x=distr_1, bins=50, color='#F2AB6D', rwidth= 1)\n",
        "plt.title('Distribución 1')\n",
        "plt.xlabel('Valor')\n",
        "plt.ylabel('Frecuencia')\n",
        "plt.xticks(intervalos)\n",
        "plt.show()"
      ],
      "execution_count": null,
      "outputs": [
        {
          "data": {
            "image/png": "[encoded data removed]",
            "text/plain": [
              "<Figure size 432x288 with 1 Axes>"
            ]
          },
          "metadata": {
            "needs_background": "light"
          },
          "output_type": "display_data"
        }
      ]
    },
    {
      "cell_type": "code",
      "metadata": {
        "id": "3TxXlHi1APXD",
        "outputId": "fe510ff0-ed63-4b0a-bb4c-4c5f1c6d1cbc"
      },
      "source": [
        "#intervalos = range(-10, 10) #calculamos los extremos de los intervalos\n",
        "\n",
        "plt.hist(x=distr_2, bins=200, color='b', rwidth= 1)\n",
        "plt.title('Distribución 2')\n",
        "plt.xlabel('Valores')\n",
        "plt.ylabel('Frecuencia')\n",
        "#plt.xticks(intervalos)\n",
        "plt.show()"
      ],
      "execution_count": null,
      "outputs": [
        {
          "data": {
            "image/png": "[encoded data removed]",
            "text/plain": [
              "<Figure size 1080x360 with 1 Axes>"
            ]
          },
          "metadata": {
            "needs_background": "light"
          },
          "output_type": "display_data"
        }
      ]
    },
    {
      "cell_type": "code",
      "metadata": {
        "id": "cipiUvN6APXE"
      },
      "source": [
        "ls = np.linspace(-500, 499, 200) #Creamos los bins, 200 para ser precisos. Cada uno con salto de 5."
      ],
      "execution_count": null,
      "outputs": []
    },
    {
      "cell_type": "code",
      "metadata": {
        "id": "PbvamAGHAPXF",
        "outputId": "24835eca-2d03-42c7-fa28-72abb33a3980"
      },
      "source": [
        "plt.rcParams[\"figure.figsize\"] = (16, 8)\n",
        "#intervalos = range(-50,10) #calculamos los extremos de los intervalos\n",
        "\n",
        "plt.hist(x=distr_3, bins=ls, color='green', rwidth= 1)\n",
        "plt.title('Distribución 3')\n",
        "plt.xlabel('Valores')\n",
        "plt.ylabel('Frecuencia en Escala semi logaritmica')\n",
        "#plt.xticks(intervalos)\n",
        "plt.yscale('log')\n",
        "plt.show()"
      ],
      "execution_count": null,
      "outputs": [
        {
          "data": {
            "image/png": "[encoded data removed]",
            "text/plain": [
              "<Figure size 1152x576 with 1 Axes>"
            ]
          },
          "metadata": {
            "needs_background": "light"
          },
          "output_type": "display_data"
        }
      ]
    },
    {
      "cell_type": "markdown",
      "metadata": {
        "id": "Oq3ojtcxAPXH"
      },
      "source": [
        "# 1c)\n",
        "\n",
        "\n"
      ]
    },
    {
      "cell_type": "markdown",
      "metadata": {
        "id": "2hwXdUHOAPXH"
      },
      "source": [
        "En la primera se trata de una distribución uniforme, como se puede ver en el primer histograma.\n",
        "\n",
        "Luego, podemos ver que en la segunda se trata de una distribución normal.\n",
        "\n",
        "Y por último, en la tercera se trata de una distribución de Cauchy o de cola de pesada. "
      ]
    },
    {
      "cell_type": "code",
      "metadata": {
        "id": "PnqozZ7RAPXI"
      },
      "source": [
        ""
      ],
      "execution_count": null,
      "outputs": []
    }
  ]
}